{
 "cells": [
  {
   "cell_type": "code",
   "execution_count": 1,
   "metadata": {
    "collapsed": true
   },
   "outputs": [
    {
     "name": "stderr",
     "output_type": "stream",
     "text": [
      "/var/folders/0p/t55f5t150hv1sqqwhrm_md340000gn/T/ipykernel_28258/2035458946.py:1: DeprecationWarning: \n",
      "Pyarrow will become a required dependency of pandas in the next major release of pandas (pandas 3.0),\n",
      "(to allow more performant data types, such as the Arrow string type, and better interoperability with other libraries)\n",
      "but was not found to be installed on your system.\n",
      "If this would cause problems for you,\n",
      "please provide us feedback at https://github.com/pandas-dev/pandas/issues/54466\n",
      "        \n",
      "  import pandas as pd\n"
     ]
    }
   ],
   "source": [
    "import pandas as pd"
   ]
  },
  {
   "cell_type": "code",
   "execution_count": 49,
   "outputs": [],
   "source": [
    "# Assuming your CSV file is named 'your_data.csv'\n",
    "df = pd.read_csv('COMPLETE_player_data.csv')\n",
    "\n",
    "# Group rows based on 'Opp' and 'Position' columns\n",
    "grouped_df = df.groupby(['Opp', 'Position_Filter']).agg(list).reset_index()"
   ],
   "metadata": {
    "collapsed": false
   }
  },
  {
   "cell_type": "code",
   "execution_count": 50,
   "outputs": [],
   "source": [
    "grouped_df.to_csv('grouped_data.csv', index=False)\n"
   ],
   "metadata": {
    "collapsed": false
   }
  },
  {
   "cell_type": "code",
   "execution_count": 45,
   "outputs": [],
   "source": [
    "import numpy as np"
   ],
   "metadata": {
    "collapsed": false
   }
  },
  {
   "cell_type": "code",
   "execution_count": 51,
   "outputs": [],
   "source": [
    "# Define a custom function to calculate the average of a list excluding the largest and smallest values\n",
    "def calculate_row_average(row, column_name, exclude_largest=1, exclude_smallest=1):\n",
    "    sorted_values = np.sort(row[column_name])[exclude_smallest:-exclude_largest]\n",
    "    return np.mean(sorted_values)\n",
    "\n",
    "# Define a custom function to calculate the standard deviation of a list excluding the largest and smallest values\n",
    "def calculate_row_stdev(row, column_name, exclude_largest=1, exclude_smallest=1):\n",
    "    sorted_values = np.sort(row[column_name])[exclude_smallest:-exclude_largest]\n",
    "    return np.std(sorted_values)"
   ],
   "metadata": {
    "collapsed": false
   }
  },
  {
   "cell_type": "code",
   "execution_count": 52,
   "outputs": [],
   "source": [
    "\n",
    "\n",
    "# Apply the custom function to each row to create new columns for each attribute\n",
    "attributes_to_calculate = ['Points_Diff', 'Rebounds_Diff', 'Assists_Diff', 'Steals_Diff', 'Blocks_Diff']\n",
    "\n",
    "for attribute in attributes_to_calculate:\n",
    "    grouped_df[f'{attribute}_Avg'] = grouped_df.apply(\n",
    "        lambda row: calculate_row_average(row, column_name=attribute, exclude_largest=1, exclude_smallest=1), axis=1\n",
    "    )\n",
    "\n",
    "    grouped_df[f'{attribute}_Std'] = grouped_df.apply(\n",
    "        lambda row: calculate_row_stdev(row, column_name=attribute, exclude_largest=1, exclude_smallest=1), axis=1\n",
    "    )\n",
    "\n"
   ],
   "metadata": {
    "collapsed": false
   }
  },
  {
   "cell_type": "code",
   "execution_count": 53,
   "outputs": [],
   "source": [
    "# Select specific columns for the output CSV\n",
    "output_columns = ['Opp', 'Position_Filter', 'Points_Diff_Avg', 'Points_Diff_Std', 'Rebounds_Diff_Avg', 'Rebounds_Diff_Std', 'Assists_Diff_Avg', 'Assists_Diff_Std', 'Steals_Diff_Avg', 'Steals_Diff_Std','Blocks_Diff_Avg', 'Blocks_Diff_Std']\n",
    "\n",
    "# Save the DataFrame with the selected columns to a new CSV file\n",
    "grouped_df[output_columns].to_csv('averages_grouped.csv', index=False)\n"
   ],
   "metadata": {
    "collapsed": false
   }
  },
  {
   "cell_type": "code",
   "execution_count": 54,
   "outputs": [],
   "source": [
    "import pandas as pd"
   ],
   "metadata": {
    "collapsed": false
   }
  },
  {
   "cell_type": "code",
   "execution_count": 60,
   "outputs": [],
   "source": [
    "# Assuming your CSV file is named 'your_file.csv'\n",
    "df = pd.read_csv('averages_grouped.csv')\n",
    "\n",
    "# List of column prefixes (e.g., 'Points_Diff', 'Rebounds_Diff', etc.)\n",
    "column_prefixes = ['Points_Diff', 'Rebounds_Diff', 'Assists_Diff', 'Steals_Diff', 'Blocks_Diff']\n",
    "\n",
    "# Add a new column for standard deviation divided by mean for each prefix\n",
    "for prefix in column_prefixes:\n",
    "    avg_column = f'{prefix}_Avg'\n",
    "    std_column = f'{prefix}_Std'\n",
    "\n",
    "    # Calculate new value: std / mean\n",
    "    new_value_column = f'{prefix}_Cv'\n",
    "    df[new_value_column] = df[std_column] / df[avg_column]\n",
    "\n",
    "\n",
    "# Reorder columns to have Avg, Std, and New_Value together for each category\n",
    "new_column_order = [\"Opp\", \"Position_Filter\"]\n",
    "for prefix in column_prefixes:\n",
    "    avg_column = f'{prefix}_Avg'\n",
    "    std_column = f'{prefix}_Std'\n",
    "    new_value_column = f'{prefix}_Cv'\n",
    "\n",
    "    new_column_order.extend([avg_column, std_column, new_value_column])\n",
    "\n",
    "df = df[new_column_order]\n",
    "\n",
    "# Save the updated DataFrame to a new CSV file if needed\n",
    "df.to_csv('summary_avg_std_cv.csv', index=False)\n"
   ],
   "metadata": {
    "collapsed": false
   }
  }
 ],
 "metadata": {
  "kernelspec": {
   "display_name": "Python 3",
   "language": "python",
   "name": "python3"
  },
  "language_info": {
   "codemirror_mode": {
    "name": "ipython",
    "version": 2
   },
   "file_extension": ".py",
   "mimetype": "text/x-python",
   "name": "python",
   "nbconvert_exporter": "python",
   "pygments_lexer": "ipython2",
   "version": "2.7.6"
  }
 },
 "nbformat": 4,
 "nbformat_minor": 0
}
