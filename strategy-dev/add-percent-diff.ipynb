{
 "cells": [
  {
   "cell_type": "code",
   "execution_count": 2,
   "metadata": {},
   "outputs": [],
   "source": [
    "import pandas as pd\n",
    "\n",
    "# Read the merged_player_data.csv file\n",
    "data = pd.read_csv('merged_player_data.csv')\n",
    "\n",
    "# Calculate the Points_Percent_Diff column and round to five decimal places\n",
    "data['Points_Percent_Diff'] = round(data['Points_Diff'] / data['Points_Running_Avg'], 5)\n",
    "\n",
    "# Calculate the Rebounds_Percent_Diff column and round to five decimal places\n",
    "data['Rebounds_Percent_Diff'] = round(data['Rebounds_Diff'] / data['Rebounds_Running_Avg'], 5)\n",
    "\n",
    "# Calculate the Assists_Percent_Diff column and round to five decimal places\n",
    "data['Assists_Percent_Diff'] = round(data['Assists_Diff'] / data['Assists_Running_Avg'], 5)\n",
    "\n",
    "# Write the updated dataframe to percent_diff.csv\n",
    "data.to_csv('percent_diff.csv', index=False)\n"
   ]
  },
  {
   "cell_type": "code",
   "execution_count": 13,
   "metadata": {},
   "outputs": [],
   "source": [
    "# Read the merged_player_data.csv file\n",
    "data = pd.read_csv('merged_player_data.csv')\n",
    "\n",
    "# Group the data by Player column\n",
    "grouped_data = data.groupby('Player')\n",
    "\n",
    "# Calculate the standard deviation of Points_Running_Avg, Rebounds_Running_Avg, and Assists_Running_Avg\n",
    "std_points = round(grouped_data['PTS'].std(), 5)\n",
    "std_rebounds = round(grouped_data['TRB'].std(), 5)\n",
    "std_assists = round(grouped_data['AST'].std(), 5)\n",
    "\n",
    "# Create new columns for the standard deviation of each\n",
    "data['Points_Running_Avg_Std'] = data['Player'].map(std_points)\n",
    "data['Rebounds_Running_Avg_Std'] = data['Player'].map(std_rebounds)\n",
    "data['Assists_Running_Avg_Std'] = data['Player'].map(std_assists)\n",
    "\n",
    "# Write the updated dataframe to percent_diff.csv\n",
    "data.to_csv('stdev.csv', index=False)\n",
    "\n"
   ]
  },
  {
   "cell_type": "code",
   "execution_count": 14,
   "metadata": {},
   "outputs": [],
   "source": [
    "\n",
    "# Read the stdev.csv file\n",
    "data = pd.read_csv('stdev.csv')\n",
    "\n",
    "# Calculate the z-score for PTS\n",
    "data['PTS_z'] = round((data['PTS'] - data['Points_Running_Avg']) / data['Points_Running_Avg_Std'], 5)\n",
    "\n",
    "# Calculate the z-score for TRB\n",
    "data['TRB_z'] = round((data['TRB'] - data['Rebounds_Running_Avg']) / data['Rebounds_Running_Avg_Std'], 5)\n",
    "\n",
    "# Calculate the z-score for AST\n",
    "data['AST_z'] = round((data['AST'] - data['Assists_Running_Avg']) / data['Assists_Running_Avg_Std'], 5)\n",
    "\n",
    "# Write the updated dataframe to z_score.csv\n",
    "data.to_csv('z_score.csv', index=False)\n"
   ]
  },
  {
   "cell_type": "code",
   "execution_count": 15,
   "metadata": {},
   "outputs": [],
   "source": [
    "import numpy as np"
   ]
  },
  {
   "cell_type": "code",
   "execution_count": 16,
   "metadata": {},
   "outputs": [],
   "source": [
    "# Read the z_score.csv file\n",
    "data = pd.read_csv('z_score.csv')\n",
    "\n",
    "# Add columns for bet results\n",
    "data['PTS_Bet_Res'] = np.where(data['PTS'] > data['player_points_line'], 'Over', 'Under')\n",
    "data['TRB_Bet_Res'] = np.where(data['TRB'] > data['player_rebounds_line'], 'Over', 'Under')\n",
    "data['AST_Bet_Res'] = np.where(data['AST'] > data['player_assists_line'], 'Over', 'Under')\n",
    "\n",
    "# Write the updated dataframe to bet_result.csv\n",
    "data.to_csv('bet_result.csv', index=False)\n",
    "\n"
   ]
  },
  {
   "cell_type": "code",
   "execution_count": 2,
   "metadata": {},
   "outputs": [],
   "source": [
    "import pandas as pd\n",
    "import numpy as np"
   ]
  },
  {
   "cell_type": "code",
   "execution_count": 32,
   "metadata": {},
   "outputs": [
    {
     "name": "stdout",
     "output_type": "stream",
     "text": [
      "0.5    0.46211    250\n",
      "0.6    0.46612    227\n",
      "0.7    0.50614    206\n",
      "0.8    0.5    186\n",
      "0.9    0.48485    160\n",
      "1.0    0.46263    130\n",
      "1.1    0.46094    118\n",
      "1.2    0.43946    98\n",
      "1.3    0.42857    87\n",
      "1.4    0.41379    72\n",
      "1.5    0.4094    61\n",
      "1.6    0.4127    52\n",
      "1.7    0.41121    44\n",
      "1.8    0.40964    34\n",
      "1.9    0.3913    27\n"
     ]
    }
   ],
   "source": [
    "\n",
    "\n",
    "# Read the bet_result.csv file\n",
    "data = pd.read_csv('bet_result.csv')\n",
    "\n",
    "\n",
    "# Loop through the range of z-scores from 0.5 to 2.0 in increments of 0.1\n",
    "for z_thresh in np.arange(0.5, 2.0, 0.1):\n",
    "    # Add the prev_performance column based on the conditions and values\n",
    "    data['pred_prev'] = np.where(data['PTS_z'] >= z_thresh, \"Under\", \"NA\")\n",
    "\n",
    "    # Shift the values of pred_prev down by 1\n",
    "    data['pred_prev'] = data['pred_prev'].shift(1)\n",
    "\n",
    "    # Find the row with the smallest G for each player\n",
    "    min_G_rows = data.groupby('Player')['G'].idxmin()\n",
    "\n",
    "    # Replace the prev_pred in the rows with the smallest G with \"NA\"\n",
    "    data.loc[min_G_rows, 'pred_prev'] = \"NA\"\n",
    "\n",
    "\n",
    "    # Count the number of rows where pred_prev is not \"NA\" and is equal to PTS_Bet_Res\n",
    "    success_count = len(data[(data['pred_prev'] == 'Under') & (data['PTS_Bet_Res'] == 'Under')])\n",
    "\n",
    "    count_pred_prev_not_na = len(data[data['pred_prev'] == 'Under'])\n",
    "\n",
    "    # Calculate the success rate\n",
    "    success_rate = round(success_count / count_pred_prev_not_na, 5)\n",
    "\n",
    "    print(f\"{round(z_thresh, 1)}    {success_rate}    {success_count}\")\n",
    "\n",
    "\n",
    "\n",
    "# Write the updated dataframe to bet_result.csv\n",
    "#data.to_csv('prev_perf.csv', index=False)\n"
   ]
  },
  {
   "cell_type": "code",
   "execution_count": null,
   "metadata": {},
   "outputs": [],
   "source": []
  },
  {
   "cell_type": "code",
   "execution_count": 20,
   "metadata": {},
   "outputs": [
    {
     "name": "stdout",
     "output_type": "stream",
     "text": [
      "0.46263\n"
     ]
    }
   ],
   "source": [
    "\n",
    "# Read the prev_perf.csv file\n",
    "data = pd.read_csv('prev_perf.csv')\n",
    "\n",
    "# Count the number of rows where pred_prev is not \"NA\" and is equal to PTS_Bet_Res\n",
    "success_count = len(data[(data['pred_prev'] != 'NA') & (data['pred_prev'] == data['PTS_Bet_Res'])])\n",
    "\n",
    "count_pred_prev_not_na = len(data[data['pred_prev'] == 'Under'])\n",
    "\n",
    "# Calculate the success rate\n",
    "success_rate = round(success_count / count_pred_prev_not_na, 5)\n",
    "\n",
    "print(success_rate)\n"
   ]
  }
 ],
 "metadata": {
  "kernelspec": {
   "display_name": "Python 3",
   "language": "python",
   "name": "python3"
  },
  "language_info": {
   "codemirror_mode": {
    "name": "ipython",
    "version": 3
   },
   "file_extension": ".py",
   "mimetype": "text/x-python",
   "name": "python",
   "nbconvert_exporter": "python",
   "pygments_lexer": "ipython3",
   "version": "3.9.1"
  }
 },
 "nbformat": 4,
 "nbformat_minor": 2
}
