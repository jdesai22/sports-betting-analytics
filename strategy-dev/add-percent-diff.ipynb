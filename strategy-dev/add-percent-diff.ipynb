{
 "cells": [
  {
   "cell_type": "code",
   "execution_count": 2,
   "metadata": {},
   "outputs": [],
   "source": [
    "import pandas as pd\n",
    "\n",
    "# Read the merged_player_data.csv file\n",
    "data = pd.read_csv('merged_player_data.csv')\n",
    "\n",
    "# Calculate the Points_Percent_Diff column and round to five decimal places\n",
    "data['Points_Percent_Diff'] = round(data['Points_Diff'] / data['Points_Running_Avg'], 5)\n",
    "\n",
    "# Calculate the Rebounds_Percent_Diff column and round to five decimal places\n",
    "data['Rebounds_Percent_Diff'] = round(data['Rebounds_Diff'] / data['Rebounds_Running_Avg'], 5)\n",
    "\n",
    "# Calculate the Assists_Percent_Diff column and round to five decimal places\n",
    "data['Assists_Percent_Diff'] = round(data['Assists_Diff'] / data['Assists_Running_Avg'], 5)\n",
    "\n",
    "# Write the updated dataframe to percent_diff.csv\n",
    "data.to_csv('percent_diff.csv', index=False)\n"
   ]
  },
  {
   "cell_type": "code",
   "execution_count": 13,
   "metadata": {},
   "outputs": [],
   "source": [
    "# Read the merged_player_data.csv file\n",
    "data = pd.read_csv('merged_player_data.csv')\n",
    "\n",
    "# Group the data by Player column\n",
    "grouped_data = data.groupby('Player')\n",
    "\n",
    "# Calculate the standard deviation of Points_Running_Avg, Rebounds_Running_Avg, and Assists_Running_Avg\n",
    "std_points = round(grouped_data['PTS'].std(), 5)\n",
    "std_rebounds = round(grouped_data['TRB'].std(), 5)\n",
    "std_assists = round(grouped_data['AST'].std(), 5)\n",
    "\n",
    "# Create new columns for the standard deviation of each\n",
    "data['Points_Running_Avg_Std'] = data['Player'].map(std_points)\n",
    "data['Rebounds_Running_Avg_Std'] = data['Player'].map(std_rebounds)\n",
    "data['Assists_Running_Avg_Std'] = data['Player'].map(std_assists)\n",
    "\n",
    "# Write the updated dataframe to percent_diff.csv\n",
    "data.to_csv('stdev.csv', index=False)\n",
    "\n"
   ]
  },
  {
   "cell_type": "code",
   "execution_count": 14,
   "metadata": {},
   "outputs": [],
   "source": [
    "\n",
    "# Read the stdev.csv file\n",
    "data = pd.read_csv('stdev.csv')\n",
    "\n",
    "# Calculate the z-score for PTS\n",
    "data['PTS_z'] = round((data['PTS'] - data['Points_Running_Avg']) / data['Points_Running_Avg_Std'], 5)\n",
    "\n",
    "# Calculate the z-score for TRB\n",
    "data['TRB_z'] = round((data['TRB'] - data['Rebounds_Running_Avg']) / data['Rebounds_Running_Avg_Std'], 5)\n",
    "\n",
    "# Calculate the z-score for AST\n",
    "data['AST_z'] = round((data['AST'] - data['Assists_Running_Avg']) / data['Assists_Running_Avg_Std'], 5)\n",
    "\n",
    "# Write the updated dataframe to z_score.csv\n",
    "data.to_csv('z_score.csv', index=False)\n"
   ]
  },
  {
   "cell_type": "code",
   "execution_count": 15,
   "metadata": {},
   "outputs": [],
   "source": [
    "import numpy as np"
   ]
  },
  {
   "cell_type": "code",
   "execution_count": 16,
   "metadata": {},
   "outputs": [],
   "source": [
    "# Read the z_score.csv file\n",
    "data = pd.read_csv('z_score.csv')\n",
    "\n",
    "# Add columns for bet results\n",
    "data['PTS_Bet_Res'] = np.where(data['PTS'] > data['player_points_line'], 'Over', 'Under')\n",
    "data['TRB_Bet_Res'] = np.where(data['TRB'] > data['player_rebounds_line'], 'Over', 'Under')\n",
    "data['AST_Bet_Res'] = np.where(data['AST'] > data['player_assists_line'], 'Over', 'Under')\n",
    "\n",
    "# Write the updated dataframe to bet_result.csv\n",
    "data.to_csv('bet_result.csv', index=False)\n",
    "\n"
   ]
  },
  {
   "cell_type": "code",
   "execution_count": null,
   "metadata": {},
   "outputs": [],
   "source": []
  }
 ],
 "metadata": {
  "kernelspec": {
   "display_name": "Python 3",
   "language": "python",
   "name": "python3"
  },
  "language_info": {
   "codemirror_mode": {
    "name": "ipython",
    "version": 3
   },
   "file_extension": ".py",
   "mimetype": "text/x-python",
   "name": "python",
   "nbconvert_exporter": "python",
   "pygments_lexer": "ipython3",
   "version": "3.9.1"
  }
 },
 "nbformat": 4,
 "nbformat_minor": 2
}
