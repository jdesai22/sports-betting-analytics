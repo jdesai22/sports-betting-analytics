{
 "cells": [
  {
   "cell_type": "code",
   "execution_count": 1,
   "metadata": {},
   "outputs": [
    {
     "name": "stderr",
     "output_type": "stream",
     "text": [
      "/var/folders/0p/t55f5t150hv1sqqwhrm_md340000gn/T/ipykernel_6297/936500124.py:10: DeprecationWarning: \n",
      "Pyarrow will become a required dependency of pandas in the next major release of pandas (pandas 3.0),\n",
      "(to allow more performant data types, such as the Arrow string type, and better interoperability with other libraries)\n",
      "but was not found to be installed on your system.\n",
      "If this would cause problems for you,\n",
      "please provide us feedback at https://github.com/pandas-dev/pandas/issues/54466\n",
      "        \n",
      "  import pandas as pd\n"
     ]
    }
   ],
   "source": [
    "import os\n",
    "import time\n",
    "\n",
    "# from dotenv import load_dotenv\n",
    "import requests\n",
    "import json\n",
    "import re\n",
    "from datetime import date\n",
    "import csv\n",
    "import pandas as pd\n",
    "\n",
    "from datetime import datetime\n",
    "import pytz\n",
    "\n",
    "\n",
    "#load_dotenv()\n",
    "\n",
    "# need to add api keys here for code to work\n",
    "BASE = \"https://api.the-odds-api.com/v4\"\n",
    "HISTORICAL_API_KEY=\"668b5200589eb79da855b2f68cd0749a\"\n",
    "API_KEY=\"\"\n"
   ]
  },
  {
   "cell_type": "code",
   "execution_count": 30,
   "outputs": [],
   "source": [
    "class Collector:\n",
    "\n",
    "    sports_titles = []\n",
    "    sports_keys = []\n",
    "\n",
    "    @staticmethod\n",
    "    def getAPIKey():\n",
    "        print(HISTORICAL_API_KEY)\n",
    "\n",
    "\n",
    "    @staticmethod\n",
    "    def getEvents(sport):\n",
    "        url = f'{BASE}/sports/{sport}/events?apiKey={API_KEY}'\n",
    "\n",
    "        response = requests.request(\"GET\", url, headers={}, data={})\n",
    "\n",
    "        if response.status_code == 200:\n",
    "            data = response.json()\n",
    "        else:\n",
    "            print(f\"Error Collecting Events Data. Status code: {response.status_code}\")\n",
    "            data = None\n",
    "\n",
    "        if data is not None:\n",
    "            with open(f\"{sport}-event-{date.today()}.json\", \"w\") as json_file:\n",
    "                json.dump(data, json_file, indent=4)\n",
    "\n",
    "    @staticmethod\n",
    "    def getHistoricalEvents(sport, date):\n",
    "\n",
    "        # ISO format: 2021-10-18T12:00:00Z\n",
    "        # yyyy mm dd\n",
    "\n",
    "        if not Collector.validateDate(date):\n",
    "            print(f\"Invalid date: {date}\")\n",
    "            return\n",
    "\n",
    "        orig_date = date\n",
    "        date += \"T10:00:00Z\"  # auto collect at 10 AM\n",
    "\n",
    "        url = f\"{BASE}/historical/sports/{sport}/events?apiKey={HISTORICAL_API_KEY}&date={date}\"\n",
    "\n",
    "        print(url)\n",
    "\n",
    "        response = requests.request(\"GET\", url, headers={}, data={})\n",
    "\n",
    "        if response.status_code == 200:\n",
    "            data = response.json()\n",
    "        else:\n",
    "            print(f\"Error Collecting Events Data. Status code: {response.status_code}\")\n",
    "            data = None\n",
    "            return None\n",
    "\n",
    "        # print(data)\n",
    "\n",
    "        if data is not None:\n",
    "            with open(f\"basketball-events/{sport}-event-{orig_date}.json\", \"w\") as json_file:\n",
    "                json.dump(data, json_file, indent=4)\n",
    "\n",
    "        return \"working\"\n",
    "\n",
    "    @staticmethod\n",
    "    def getPropByEventFiles(dir, sport, markets, regions):\n",
    "        # gets all props for every single event in basketball-events\n",
    "        files_collected = []\n",
    "        events_found = 0\n",
    "\n",
    "        for file in os.listdir(dir):\n",
    "            if os.path.isfile(os.path.join(dir, file)) and file.endswith('.json'):\n",
    "                with open(os.path.join(dir, file), \"r\") as f:\n",
    "                    data = json.load(f)\n",
    "\n",
    "                timestamp = data[\"timestamp\"]\n",
    "                est_file_date = Collector.convertISOtoEST(timestamp)\n",
    "                print(est_file_date)\n",
    "\n",
    "                files_collected.append(os.path.join(dir, file))\n",
    "                for event in data[\"data\"]:\n",
    "                    eventId = event[\"id\"]\n",
    "\n",
    "                    est_start_date = Collector.convertISOtoEST(event[\"commence_time\"])\n",
    "\n",
    "                    if est_start_date == est_file_date:\n",
    "                        events_found += 1\n",
    "                        d = Collector.getHistoricalNBAPropsByEventId(sport, eventId, markets, regions, timestamp, False, True)\n",
    "                        print(eventId)\n",
    "                        if d is None:\n",
    "                            print(files_collected)\n",
    "                            return\n",
    "                        time.sleep(.51)\n",
    "\n",
    "\n",
    "        print(events_found)\n",
    "        print(files_collected)\n",
    "\n",
    "    @staticmethod\n",
    "    def format_date(date_str):\n",
    "        parts = date_str.split('-')\n",
    "        if len(parts) == 3:\n",
    "            year = parts[0]\n",
    "            month = parts[1].zfill(2)  # Zero-padding month\n",
    "            day = parts[2].zfill(2)    # Zero-padding day\n",
    "            format_date = f\"{year}-{month}-{day}\"\n",
    "\n",
    "            if format_date == \"2024-01-00\":\n",
    "                return \"2023-12-31\"\n",
    "            elif format_date == \"2023-12-00\":\n",
    "                return \"2023-11-30\"\n",
    "            elif format_date == \"2023-11-00\":\n",
    "                return \"2023-10-31\"\n",
    "            elif format_date == \"2023-10-00\":\n",
    "                return \"2023-09-30\"\n",
    "            else:\n",
    "                return format_date\n",
    "        else:\n",
    "            return None  # Invalid date format\n",
    "\n",
    "    @staticmethod\n",
    "    def convertISOtoEST(iso_time):\n",
    "        # Split the ISO 8601 string to extract date and time components\n",
    "        date_part, time_part = iso_time.split('T')\n",
    "\n",
    "        # Extract hour, minute, and second components from the time part\n",
    "        hour, minute, second = map(int, time_part[:-1].split(':'))  # Remove the 'Z' at the end\n",
    "\n",
    "        # Adjust the hour to EST timezone (UTC-5)\n",
    "        hour -= 5\n",
    "\n",
    "        # If the adjusted hour is negative, roll back to the previous day\n",
    "        if hour < 0:\n",
    "            hour += 24\n",
    "            # Adjust the date part accordingly\n",
    "            year, month, day = map(int, date_part.split('-'))\n",
    "            previous_day = (year, month, day - 1)\n",
    "            date_part = '-'.join(map(str, previous_day))\n",
    "\n",
    "        # Format the date part\n",
    "        date_part = Collector.format_date(date_part)\n",
    "\n",
    "        # Construct the EST time string\n",
    "        est_time = f\"{date_part}\"\n",
    "\n",
    "        return est_time\n",
    "\n",
    "    @staticmethod\n",
    "    def convertPropFilesToSingularCSV(dir):\n",
    "        csv_player_data = []\n",
    "\n",
    "        empty_files = []\n",
    "\n",
    "        for file in os.listdir(dir):\n",
    "            if os.path.isfile(os.path.join(dir, file)) and file.endswith('.json'):\n",
    "                with open(os.path.join(dir, file), \"r\") as f:\n",
    "                    data = json.load(f)\n",
    "\n",
    "                filename = os.path.join(dir, file)\n",
    "                date = filename.split(\"props-\")[1].replace(\".json\", \"\")\n",
    "\n",
    "\n",
    "                data = data[\"data\"]\n",
    "\n",
    "                player_data = {}\n",
    "\n",
    "                if (len(data[\"bookmakers\"]) == 0):\n",
    "                    empty_files.append(filename)\n",
    "                else:\n",
    "                    for market in data[\"bookmakers\"][0][\"markets\"]:\n",
    "                        key = market[\"key\"]\n",
    "\n",
    "                        for odds in market[\"outcomes\"]:\n",
    "                            player = odds[\"description\"]\n",
    "                            if player not in player_data:\n",
    "                                player_data[player] = {}\n",
    "\n",
    "                            if key not in player_data[player]:\n",
    "                                player_data[player][key] = {}\n",
    "\n",
    "                            player_data[player][key][\"line\"] = odds[\"point\"]\n",
    "                            player_data[player][key][odds[\"name\"].lower()] = odds[\"price\"]\n",
    "\n",
    "\n",
    "                    for player, lines in player_data.items():\n",
    "                        row = {'Player': player, 'Date': date}\n",
    "                        for prop_type, values in lines.items():\n",
    "                            for prop_info, value in values.items():\n",
    "                                row[f\"{prop_type}_{prop_info}\"] = value\n",
    "                        csv_player_data.append(row)\n",
    "\n",
    "\n",
    "        headers = set()\n",
    "        for row in csv_player_data:\n",
    "            headers.update(row.keys())\n",
    "\n",
    "        # Write CSV data to file\n",
    "        with open('odds_output.csv', 'w', newline='') as csvfile:\n",
    "            writer = csv.DictWriter(csvfile, fieldnames=sorted(headers))\n",
    "            writer.writeheader()\n",
    "            writer.writerows(csv_player_data)\n",
    "\n",
    "        print(empty_files)\n",
    "\n",
    "\n",
    "    @staticmethod\n",
    "    def getHistoricalNBAPropsByEventId(sport, eventId, markets, regions, date, testing, timestampUsed):\n",
    "        if testing:\n",
    "            with open(\"basketball-player-props/da359da99aa27e97d38f2df709343998-props-2023-11-29.json\", \"r\") as file:\n",
    "                d = json.load(file)\n",
    "                # print(d)\n",
    "                return\n",
    "\n",
    "        # ISO format: 2021-10-18T12:00:00Z\n",
    "        # yyyy mm dd\n",
    "\n",
    "        if not timestampUsed and not Collector.validateDate(date):\n",
    "            print(f\"Invalid date: {date}\")\n",
    "            return\n",
    "\n",
    "        if not timestampUsed:\n",
    "            orig_date = date\n",
    "            date += \"T10:00:00Z\" # auto collect at 10 AM\n",
    "        else:\n",
    "            orig_date = date.split(\"T\")[0]\n",
    "\n",
    "        # /v4/historical/sports/{sport}/events/{eventId}/odds?apiKey={apiKey}&regions={regions}&markets={markets}&dateFormat={dateFormat}&oddsFormat={oddsFormat}&date={date}\n",
    "        url = f'{BASE}/historical/sports/{sport}/events/{eventId}/odds?apiKey={HISTORICAL_API_KEY}&regions={\",\".join(regions)}&markets={\",\".join(markets)}&date={date}'\n",
    "\n",
    "        # print(url)\n",
    "        if not testing:\n",
    "            response = requests.request(\"GET\", url, headers={}, data={})\n",
    "        #print(response.json())\n",
    "\n",
    "\n",
    "        if response.status_code == 200:\n",
    "            data = response.json()\n",
    "        else:\n",
    "            print(f\"Error Collecting Player Props Data for {eventId}. Status code: {response.status_code}\")\n",
    "            data = None\n",
    "\n",
    "            return None\n",
    "\n",
    "\n",
    "        est_date = Collector.convertISOtoEST(date)\n",
    "\n",
    "        if data is not None:\n",
    "            with open(f\"basketball-player-props/{eventId}-props-{est_date}.json\", \"w\") as json_file:\n",
    "                json.dump(data, json_file, indent=4)\n",
    "\n",
    "        return data\n",
    "\n",
    "\n",
    "\n",
    "    @staticmethod\n",
    "    def getNBAPropsByEventId(sport, eventId, markets, regions):\n",
    "        url = f'{BASE}/sports/{sport}/events/{eventId}/odds?markets={\",\".join(markets)}&regions={\",\".join(regions)}&apiKey={API_KEY}'\n",
    "\n",
    "        response = requests.request(\"GET\", url, headers={}, data={})\n",
    "\n",
    "        if response.status_code == 200:\n",
    "            data = response.json()\n",
    "        else:\n",
    "            print(f\"Error Collecting Player Props Data for {eventId}. Status code: {response.status_code}\")\n",
    "            data = None\n",
    "\n",
    "        if data is not None:\n",
    "            with open(f\"{eventId}-props-{date.today()}.json\", \"w\") as json_file:\n",
    "                json.dump(data, json_file, indent=4)\n",
    "\n",
    "\n",
    "    @staticmethod\n",
    "    def exploreHistoricalPropData(filename):\n",
    "        date = filename.split(\"props-\")[1].replace(\".json\", \"\")\n",
    "\n",
    "        with open(filename) as f:\n",
    "            data = json.load(f)\n",
    "\n",
    "        data = data[\"data\"]\n",
    "\n",
    "        player_data = {}\n",
    "\n",
    "        for market in data[\"bookmakers\"][0][\"markets\"]:\n",
    "            key = market[\"key\"]\n",
    "\n",
    "            for odds in market[\"outcomes\"]:\n",
    "                player = odds[\"description\"]\n",
    "                if player not in player_data:\n",
    "                    player_data[player] = {}\n",
    "\n",
    "                if key not in player_data[player]:\n",
    "                    player_data[player][key] = {}\n",
    "\n",
    "                player_data[player][key][\"line\"] = odds[\"point\"]\n",
    "                player_data[player][key][odds[\"name\"].lower()] = odds[\"price\"]\n",
    "\n",
    "\n",
    "        csv_player_data = []\n",
    "        for player, lines in player_data.items():\n",
    "            row = {'Player': player, 'Date': date}\n",
    "            for prop_type, values in lines.items():\n",
    "                for prop_info, value in values.items():\n",
    "                    row[f\"{prop_type}_{prop_info}\"] = value\n",
    "            csv_player_data.append(row)\n",
    "\n",
    "\n",
    "        headers = set()\n",
    "        for row in csv_player_data:\n",
    "            headers.update(row.keys())\n",
    "\n",
    "        # Write CSV data to file\n",
    "        with open('output.csv', 'w', newline='') as csvfile:\n",
    "            writer = csv.DictWriter(csvfile, fieldnames=sorted(headers))\n",
    "            writer.writeheader()\n",
    "            writer.writerows(csv_player_data)\n",
    "\n",
    "\n",
    "    @staticmethod\n",
    "    def validateRegion(reg):\n",
    "        regex_pattern = r'^(us|us2|uk|au|eu)(,(us|us2|uk|au|eu))*$'\n",
    "        return bool(re.match(regex_pattern, reg))\n",
    "\n",
    "    @staticmethod\n",
    "    def validateMarket(market):\n",
    "        regex_pattern = r'^(h2h|spreads|totals|outrights|h2h_lay|outrights_lay)(,(h2h|spreads|totals|outrights|h2h_lay|outrights_lay))*$'\n",
    "        return bool(re.match(regex_pattern, market))\n",
    "\n",
    "    @staticmethod\n",
    "    def validateDate(date):\n",
    "        regex_pattern = r'^\\d{4}-\\d{2}-\\d{2}$'\n",
    "        return bool(re.match(regex_pattern, date))"
   ],
   "metadata": {
    "collapsed": false
   }
  },
  {
   "cell_type": "markdown",
   "metadata": {},
   "source": [
    "Get all NBA events"
   ]
  },
  {
   "cell_type": "code",
   "execution_count": 31,
   "metadata": {},
   "outputs": [
    {
     "name": "stdout",
     "output_type": "stream",
     "text": [
      "[('2023-10-24', 19), ('2023-10-25', 134), ('2023-10-26', 19), ('2023-10-27', 124), ('2023-10-28', 70), ('2023-10-29', 57), ('2023-10-30', 119), ('2023-10-31', 30)]\n"
     ]
    }
   ],
   "source": [
    "# Code checks how many unique game dates there are\n",
    "\n",
    "df = pd.read_csv('COMPLETE_player_data.csv')\n",
    "\n",
    "unique_dates = df['Date'].value_counts()\n",
    "\n",
    "unique_dates = unique_dates.sort_index()\n",
    "\n",
    "filtered_dates = []\n",
    "\n",
    "# for date, count in unique_dates.items():\n",
    "#     spdate = date.split(\"-\")\n",
    "#     if (spdate[1] == \"12\" and int(spdate[2]) > 12) or (spdate[1] == \"01\") :\n",
    "#         filtered_dates.append((date, count))\n",
    "\n",
    "for date, count in unique_dates.items():\n",
    "    spdate = date.split(\"-\")\n",
    "    if spdate[1] == \"10\":\n",
    "        filtered_dates.append((date, count))\n",
    "print(filtered_dates)\n"
   ]
  },
  {
   "cell_type": "code",
   "execution_count": 46,
   "outputs": [
    {
     "name": "stdout",
     "output_type": "stream",
     "text": [
      "https://api.the-odds-api.com/v4/historical/sports/basketball_nba/events?apiKey=668b5200589eb79da855b2f68cd0749a&date=2023-12-13T10:00:00Z\n",
      "{'timestamp': '2023-12-13T09:55:38Z', 'previous_timestamp': '2023-12-13T09:50:38Z', 'next_timestamp': '2023-12-13T10:00:39Z', 'data': [{'id': 'ce6c9aa55ee8613be3168bf5031920bf', 'sport_key': 'basketball_nba', 'sport_title': 'NBA', 'commence_time': '2023-12-14T00:10:00Z', 'home_team': 'Detroit Pistons', 'away_team': 'Philadelphia 76ers'}, {'id': '532e7f4618fc67f69e19b99394ed0d06', 'sport_key': 'basketball_nba', 'sport_title': 'NBA', 'commence_time': '2023-12-14T00:10:00Z', 'home_team': 'Washington Wizards', 'away_team': 'New Orleans Pelicans'}, {'id': '62b3bd979a162d755689d1f073281ba4', 'sport_key': 'basketball_nba', 'sport_title': 'NBA', 'commence_time': '2023-12-14T00:40:00Z', 'home_team': 'Toronto Raptors', 'away_team': 'Atlanta Hawks'}, {'id': 'd73b5a32c4fed2c803e8a0b60cb8cfaa', 'sport_key': 'basketball_nba', 'sport_title': 'NBA', 'commence_time': '2023-12-14T00:40:00Z', 'home_team': 'Miami Heat', 'away_team': 'Charlotte Hornets'}, {'id': 'b911647c34891f6b884200d43e604611', 'sport_key': 'basketball_nba', 'sport_title': 'NBA', 'commence_time': '2023-12-14T01:00:00Z', 'home_team': 'San Antonio Spurs', 'away_team': 'Los Angeles Lakers'}, {'id': 'efd210bb5179ecdcaf5d0824e69e0b5a', 'sport_key': 'basketball_nba', 'sport_title': 'NBA', 'commence_time': '2023-12-14T01:10:00Z', 'home_team': 'Houston Rockets', 'away_team': 'Memphis Grizzlies'}, {'id': 'cdf9b7768fa3d45f45de1a1be87080f3', 'sport_key': 'basketball_nba', 'sport_title': 'NBA', 'commence_time': '2023-12-14T01:10:00Z', 'home_team': 'Milwaukee Bucks', 'away_team': 'Indiana Pacers'}, {'id': '42bb5f5dae1e79252cf08f0839de3710', 'sport_key': 'basketball_nba', 'sport_title': 'NBA', 'commence_time': '2023-12-14T02:10:00Z', 'home_team': 'Phoenix Suns', 'away_team': 'Brooklyn Nets'}, {'id': '7172092021340a418145604e6a3f0876', 'sport_key': 'basketball_nba', 'sport_title': 'NBA', 'commence_time': '2023-12-14T02:10:00Z', 'home_team': 'Utah Jazz', 'away_team': 'New York Knicks'}, {'id': '5a4b28938902c4fba16da19c6e8c1296', 'sport_key': 'basketball_nba', 'sport_title': 'NBA', 'commence_time': '2023-12-25T17:00:00Z', 'home_team': 'New York Knicks', 'away_team': 'Milwaukee Bucks'}, {'id': '20fc47de6083f99da2027876dfebadb7', 'sport_key': 'basketball_nba', 'sport_title': 'NBA', 'commence_time': '2023-12-25T19:30:00Z', 'home_team': 'Denver Nuggets', 'away_team': 'Golden State Warriors'}, {'id': '9cb979b834e23b9dc8737eebba4db760', 'sport_key': 'basketball_nba', 'sport_title': 'NBA', 'commence_time': '2023-12-25T22:00:00Z', 'home_team': 'Los Angeles Lakers', 'away_team': 'Boston Celtics'}, {'id': '184da460295c1cfd98b0ff31e8fc2b13', 'sport_key': 'basketball_nba', 'sport_title': 'NBA', 'commence_time': '2023-12-26T01:00:00Z', 'home_team': 'Miami Heat', 'away_team': 'Philadelphia 76ers'}, {'id': '96d0c38f9eae8242f2e363bdedd90c53', 'sport_key': 'basketball_nba', 'sport_title': 'NBA', 'commence_time': '2023-12-26T03:30:00Z', 'home_team': 'Phoenix Suns', 'away_team': 'Dallas Mavericks'}]}\n"
     ]
    }
   ],
   "source": [
    "#Collector.getHistoricalEvents(\"basketball_nba\", filtered_dates[0][0])"
   ],
   "metadata": {
    "collapsed": false
   }
  },
  {
   "cell_type": "code",
   "execution_count": 4,
   "outputs": [],
   "source": [
    "sport = \"basketball_nba\""
   ],
   "metadata": {
    "collapsed": false
   }
  },
  {
   "cell_type": "code",
   "execution_count": 5,
   "outputs": [],
   "source": [
    "import time"
   ],
   "metadata": {
    "collapsed": false
   }
  },
  {
   "cell_type": "code",
   "execution_count": 32,
   "outputs": [
    {
     "name": "stdout",
     "output_type": "stream",
     "text": [
      "8\n"
     ]
    }
   ],
   "source": [
    "print(len(filtered_dates))"
   ],
   "metadata": {
    "collapsed": false
   }
  },
  {
   "cell_type": "code",
   "execution_count": 33,
   "outputs": [
    {
     "name": "stdout",
     "output_type": "stream",
     "text": [
      "0\n",
      "https://api.the-odds-api.com/v4/historical/sports/basketball_nba/events?apiKey=668b5200589eb79da855b2f68cd0749a&date=2023-10-24T10:00:00Z\n",
      "1\n",
      "https://api.the-odds-api.com/v4/historical/sports/basketball_nba/events?apiKey=668b5200589eb79da855b2f68cd0749a&date=2023-10-25T10:00:00Z\n",
      "2\n",
      "https://api.the-odds-api.com/v4/historical/sports/basketball_nba/events?apiKey=668b5200589eb79da855b2f68cd0749a&date=2023-10-26T10:00:00Z\n",
      "3\n",
      "https://api.the-odds-api.com/v4/historical/sports/basketball_nba/events?apiKey=668b5200589eb79da855b2f68cd0749a&date=2023-10-27T10:00:00Z\n",
      "4\n",
      "https://api.the-odds-api.com/v4/historical/sports/basketball_nba/events?apiKey=668b5200589eb79da855b2f68cd0749a&date=2023-10-28T10:00:00Z\n",
      "5\n",
      "https://api.the-odds-api.com/v4/historical/sports/basketball_nba/events?apiKey=668b5200589eb79da855b2f68cd0749a&date=2023-10-29T10:00:00Z\n",
      "6\n",
      "https://api.the-odds-api.com/v4/historical/sports/basketball_nba/events?apiKey=668b5200589eb79da855b2f68cd0749a&date=2023-10-30T10:00:00Z\n",
      "7\n",
      "https://api.the-odds-api.com/v4/historical/sports/basketball_nba/events?apiKey=668b5200589eb79da855b2f68cd0749a&date=2023-10-31T10:00:00Z\n"
     ]
    }
   ],
   "source": [
    "for i in range(0, len(filtered_dates)):\n",
    "    print(i)\n",
    "    resp = Collector.getHistoricalEvents(sport, filtered_dates[i][0])\n",
    "    if resp is None:\n",
    "        break\n",
    "    time.sleep(1.01)"
   ],
   "metadata": {
    "collapsed": false
   }
  },
  {
   "cell_type": "markdown",
   "source": [
    "check how many games will need to collect for"
   ],
   "metadata": {
    "collapsed": false
   }
  },
  {
   "cell_type": "code",
   "execution_count": 34,
   "outputs": [
    {
     "name": "stdout",
     "output_type": "stream",
     "text": [
      "54\n"
     ]
    }
   ],
   "source": [
    "dir = \"basketball-events\"\n",
    "\n",
    "games_count = 0\n",
    "\n",
    "games_by_day = []\n",
    "for file in os.listdir(dir):\n",
    "    if os.path.isfile(os.path.join(dir, file)) and file.endswith('.json'):\n",
    "        with open(os.path.join(dir, file), \"r\") as f:\n",
    "            data = json.load(f)\n",
    "\n",
    "        est_timestamp = Collector.convertISOtoEST(data[\"timestamp\"])\n",
    "\n",
    "        games_in_file = 0\n",
    "        for d in data[\"data\"]:\n",
    "            start_time = Collector.convertISOtoEST(d[\"commence_time\"])\n",
    "            if est_timestamp == start_time:\n",
    "                games_in_file+=1\n",
    "\n",
    "        games_by_day.append((est_timestamp, games_in_file))\n",
    "\n",
    "        games_count += games_in_file\n",
    "\n",
    "print(games_count)"
   ],
   "metadata": {
    "collapsed": false
   }
  },
  {
   "cell_type": "code",
   "execution_count": 92,
   "outputs": [
    {
     "name": "stdout",
     "output_type": "stream",
     "text": [
      "['basketball-player-props/a15de2fac0aea8e1e652462401125c8d-props-2023-12-21.json', 'basketball-player-props/22eab68578d5078c14837e5f8d6f2b3c-props-2023-12-20.json', 'basketball-player-props/75a5579bbe0e162efb7b76a5150114dc-props-2023-12-19.json', 'basketball-player-props/f3189d21c6f15e3be26715e333b6a62c-props-2023-12-19.json', 'basketball-player-props/ca81cc197a2d25deafb7e70e1ff5db27-props-2023-12-19.json', 'basketball-player-props/96d0c38f9eae8242f2e363bdedd90c53-props-2023-12-20.json', 'basketball-player-props/184da460295c1cfd98b0ff31e8fc2b13-props-2023-12-21.json', 'basketball-player-props/184da460295c1cfd98b0ff31e8fc2b13-props-2023-12-20.json', 'basketball-player-props/9cb979b834e23b9dc8737eebba4db760-props-2023-12-19.json', 'basketball-player-props/20fc47de6083f99da2027876dfebadb7-props-2023-12-19.json', 'basketball-player-props/5a4b28938902c4fba16da19c6e8c1296-props-2023-12-19.json', 'basketball-player-props/96d0c38f9eae8242f2e363bdedd90c53-props-2023-12-21.json', 'basketball-player-props/8b4d2b3361cdcda402582dfdb9e56c3f-props-2023-12-20.json', 'basketball-player-props/d802271c282293c17a54846e65fc823c-props-2023-12-21.json', 'basketball-player-props/74fa0c92353a59bc22e7a0732fea26f9-props-2023-12-20.json', 'basketball-player-props/0ca70c18620103621f608ad09a3df481-props-2023-12-20.json', 'basketball-player-props/20fc47de6083f99da2027876dfebadb7-props-2023-12-20.json', 'basketball-player-props/2648d0a2a42a5516d56e624b2ff57258-props-2023-12-21.json', 'basketball-player-props/5a4b28938902c4fba16da19c6e8c1296-props-2023-12-20.json', 'basketball-player-props/255e0f1a6d3484050307d30789c5a7a6-props-2023-12-20.json', 'basketball-player-props/9cb979b834e23b9dc8737eebba4db760-props-2023-12-20.json', 'basketball-player-props/184da460295c1cfd98b0ff31e8fc2b13-props-2023-12-19.json', 'basketball-player-props/9cb979b834e23b9dc8737eebba4db760-props-2023-12-21.json', 'basketball-player-props/c79c7132487d9bd101119b185b078fd6-props-2023-12-20.json', 'basketball-player-props/20fc47de6083f99da2027876dfebadb7-props-2023-12-21.json', 'basketball-player-props/5a4b28938902c4fba16da19c6e8c1296-props-2023-12-21.json', 'basketball-player-props/96d0c38f9eae8242f2e363bdedd90c53-props-2023-12-19.json', 'basketball-player-props/3030d48e088feb9daafa48783e46243f-props-2023-12-21.json', 'basketball-player-props/251abfa044efb3a89153ba05897789eb-props-2023-12-20.json', 'basketball-player-props/6b54d5697223e597373ebb56eb70d332-props-2023-12-21.json', 'basketball-player-props/01ac230c76f2cccd0f69a372ca246f25-props-2023-12-21.json', 'basketball-player-props/23979fa5193ad1548b417410f06d6bd7-props-2023-12-21.json', 'basketball-player-props/e92731f1079ff57d53612e42632f4460-props-2023-12-20.json', 'basketball-player-props/b0e3d048a67c9e60eb2ddc54018c71c2-props-2023-12-20.json', 'basketball-player-props/61b7b741c3e33564ea93843fb5252d5b-props-2023-12-20.json', 'basketball-player-props/cfed5291b7b9a33ad7822072f3a95fc6-props-2023-12-19.json']\n"
     ]
    }
   ],
   "source": [
    "# Clean all timestamp and commence time mismatches\n",
    "\n",
    "dir = \"basketball-player-props\"\n",
    "\n",
    "bad_files = []\n",
    "\n",
    "for file in os.listdir(dir):\n",
    "    if os.path.isfile(os.path.join(dir, file)) and file.endswith('.json'):\n",
    "        with open(os.path.join(dir, file), \"r\") as f:\n",
    "            data = json.load(f)\n",
    "        if data[\"timestamp\"].split(\"T\")[0] != data[\"data\"][\"commence_time\"].split(\"T\")[0]:\n",
    "            bad_files.append(os.path.join(dir, file))\n",
    "\n",
    "print(bad_files)"
   ],
   "metadata": {
    "collapsed": false
   }
  },
  {
   "cell_type": "code",
   "execution_count": 93,
   "outputs": [
    {
     "name": "stdout",
     "output_type": "stream",
     "text": [
      "basketball-player-props/a15de2fac0aea8e1e652462401125c8d-props-2023-12-21.json\n",
      "basketball-player-props/22eab68578d5078c14837e5f8d6f2b3c-props-2023-12-20.json\n",
      "basketball-player-props/75a5579bbe0e162efb7b76a5150114dc-props-2023-12-19.json\n",
      "basketball-player-props/f3189d21c6f15e3be26715e333b6a62c-props-2023-12-19.json\n",
      "basketball-player-props/ca81cc197a2d25deafb7e70e1ff5db27-props-2023-12-19.json\n",
      "basketball-player-props/96d0c38f9eae8242f2e363bdedd90c53-props-2023-12-20.json\n",
      "basketball-player-props/184da460295c1cfd98b0ff31e8fc2b13-props-2023-12-21.json\n",
      "basketball-player-props/184da460295c1cfd98b0ff31e8fc2b13-props-2023-12-20.json\n",
      "basketball-player-props/9cb979b834e23b9dc8737eebba4db760-props-2023-12-19.json\n",
      "basketball-player-props/20fc47de6083f99da2027876dfebadb7-props-2023-12-19.json\n",
      "basketball-player-props/5a4b28938902c4fba16da19c6e8c1296-props-2023-12-19.json\n",
      "basketball-player-props/96d0c38f9eae8242f2e363bdedd90c53-props-2023-12-21.json\n",
      "basketball-player-props/8b4d2b3361cdcda402582dfdb9e56c3f-props-2023-12-20.json\n",
      "basketball-player-props/d802271c282293c17a54846e65fc823c-props-2023-12-21.json\n",
      "basketball-player-props/74fa0c92353a59bc22e7a0732fea26f9-props-2023-12-20.json\n",
      "basketball-player-props/0ca70c18620103621f608ad09a3df481-props-2023-12-20.json\n",
      "basketball-player-props/20fc47de6083f99da2027876dfebadb7-props-2023-12-20.json\n",
      "basketball-player-props/2648d0a2a42a5516d56e624b2ff57258-props-2023-12-21.json\n",
      "basketball-player-props/5a4b28938902c4fba16da19c6e8c1296-props-2023-12-20.json\n",
      "basketball-player-props/255e0f1a6d3484050307d30789c5a7a6-props-2023-12-20.json\n",
      "basketball-player-props/9cb979b834e23b9dc8737eebba4db760-props-2023-12-20.json\n",
      "basketball-player-props/184da460295c1cfd98b0ff31e8fc2b13-props-2023-12-19.json\n",
      "basketball-player-props/9cb979b834e23b9dc8737eebba4db760-props-2023-12-21.json\n",
      "basketball-player-props/c79c7132487d9bd101119b185b078fd6-props-2023-12-20.json\n",
      "basketball-player-props/20fc47de6083f99da2027876dfebadb7-props-2023-12-21.json\n",
      "basketball-player-props/5a4b28938902c4fba16da19c6e8c1296-props-2023-12-21.json\n",
      "basketball-player-props/96d0c38f9eae8242f2e363bdedd90c53-props-2023-12-19.json\n",
      "basketball-player-props/3030d48e088feb9daafa48783e46243f-props-2023-12-21.json\n",
      "basketball-player-props/251abfa044efb3a89153ba05897789eb-props-2023-12-20.json\n",
      "basketball-player-props/6b54d5697223e597373ebb56eb70d332-props-2023-12-21.json\n",
      "basketball-player-props/01ac230c76f2cccd0f69a372ca246f25-props-2023-12-21.json\n",
      "basketball-player-props/23979fa5193ad1548b417410f06d6bd7-props-2023-12-21.json\n",
      "basketball-player-props/e92731f1079ff57d53612e42632f4460-props-2023-12-20.json\n",
      "basketball-player-props/b0e3d048a67c9e60eb2ddc54018c71c2-props-2023-12-20.json\n",
      "basketball-player-props/61b7b741c3e33564ea93843fb5252d5b-props-2023-12-20.json\n",
      "basketball-player-props/cfed5291b7b9a33ad7822072f3a95fc6-props-2023-12-19.json\n"
     ]
    }
   ],
   "source": [
    "for bad_file in bad_files:\n",
    "    print(bad_file)\n",
    "    os.remove(bad_file)"
   ],
   "metadata": {
    "collapsed": false
   }
  },
  {
   "cell_type": "code",
   "execution_count": 18,
   "outputs": [
    {
     "name": "stdout",
     "output_type": "stream",
     "text": [
      "2023-12-20\n",
      "2023-12-20\n"
     ]
    }
   ],
   "source": [
    "# Example inputs\n",
    "iso_input_1 = \"2023-12-21T00:10:00Z\"\n",
    "iso_input_2 = \"2023-12-20T09:55:38Z\"\n",
    "\n",
    "print(Collector.convertISOtoEST(iso_input_1))\n",
    "print(Collector.convertISOtoEST(iso_input_2))\n"
   ],
   "metadata": {
    "collapsed": false
   }
  },
  {
   "cell_type": "code",
   "execution_count": 35,
   "outputs": [
    {
     "name": "stdout",
     "output_type": "stream",
     "text": [
      "2023-10-27\n",
      "fb58618d79303aca428cb84a323e7595\n",
      "d7343c18102c8038aa38e7cd43a03b1e\n",
      "5599e516749c718886accfd047f5d4df\n",
      "6878a08bdb7a92aacd25df65456289b8\n",
      "163d5bb8fc21f98d071a2c1d426eb080\n",
      "e826c4ab86d1d9c0a8b6bec5e740ba65\n",
      "8ca53724f822568cb6810c0c3ba74675\n",
      "d9efc57955141ca09569eb70b5dc87c3\n",
      "753ef68a873f56a2be516283c4faabe5\n",
      "26d2c9d045e54ad73c714f352fb31f75\n",
      "de09cee9e9430e07fa6a53b458a00920\n",
      "2023-10-31\n",
      "67bb83903abcbf5afb582cc34bbb559c\n",
      "26709f2762124a8dfeb82fe0ebb2058a\n",
      "a8e2fbc5727b6e08de2a032ad899aa87\n",
      "2023-10-30\n",
      "455677df1d56350a03fdab920e17d014\n",
      "b01b96240d6be6dc918f5fd5de5e9400\n",
      "02e7a5fff41e0fcb119de4ea0637e92b\n",
      "b5e892b56357874a85121dda5696e6c4\n",
      "ae362c45fa67161feb1dbbefad5aac13\n",
      "55f6bdba9d39fcedff92947cdbc32abb\n",
      "70849081c4617bb778e171eb6b8f8c14\n",
      "574117fd1dcb161e967e31f71233f11d\n",
      "e62f3adf2f9ad73fc940795d12118d93\n",
      "0103e538e5ca308aa2c7b3306468a621\n",
      "ed70d498b4fcaa2c58e3bdbdb89d39b6\n",
      "2023-10-26\n",
      "2e060ed9ba9dad6f029bd2852dc4867a\n",
      "33c4c8f43aa2df7803f256b99017cd2e\n",
      "2023-10-25\n",
      "be1ee8db7ba20de87a087e8851f9b2f5\n",
      "866b0f885ae4bebcabf5a6d57eb4064a\n",
      "13898382e266df26f137ea596fd51666\n",
      "27ba27b22fe22e75d917a4bf9c7d0b1c\n",
      "a1cd3feca01c061a891025f73ef39b22\n",
      "06ae6d0547da80d7854c003842247b43\n",
      "10b1b27d849e34c689b22889b08f847a\n",
      "3e49df32408f1116cddcb9e621f07b86\n",
      "680c0ab3ff2ac6797e5b13e8811689ce\n",
      "b283979adcfe094faf21120ef9893ed9\n",
      "d8a9b6ff36694d9853817624776e76cb\n",
      "ed8aebe011b77b2122a41dde9adf4247\n",
      "2023-10-29\n",
      "3d4c502f3ca5f026ab17bcaf740a0737\n",
      "571baca00a5b2ade8a1128dc51cbc73e\n",
      "8bc6a91b67ec6811e72a21f336447ada\n",
      "6c934cc4a37c263d05229c95d69bc9ce\n",
      "ed4f372db187f3c38f670ee49868417a\n",
      "8ad879c9ded7010edc2070a2850298a5\n",
      "2023-10-28\n",
      "e1805141086e464e33d893e0e3af6890\n",
      "97f0e5496c5e6914707cf33f70e8f7be\n",
      "67e504935ff51d19983716a98bf34ffe\n",
      "60c9bce0d6813418c5ba9c02e8a172d9\n",
      "cfe5c507ca7ff96a82fb176ff6dbbb71\n",
      "92ac8b1b10e8b9bca8a8450a725b5984\n",
      "ab3b53c65b642aa7d3aa8d4b5a193aff\n",
      "2023-10-24\n",
      "fd55db2fa9ee5be1f108be5151e2ecb0\n",
      "a44e83dd9ce3f2317ec644774daa859b\n",
      "54\n",
      "['basketball-events/basketball_nba-event-2023-10-27.json', 'basketball-events/basketball_nba-event-2023-10-31.json', 'basketball-events/basketball_nba-event-2023-10-30.json', 'basketball-events/basketball_nba-event-2023-10-26.json', 'basketball-events/basketball_nba-event-2023-10-25.json', 'basketball-events/basketball_nba-event-2023-10-29.json', 'basketball-events/basketball_nba-event-2023-10-28.json', 'basketball-events/basketball_nba-event-2023-10-24.json']\n"
     ]
    }
   ],
   "source": [
    "Collector.getPropByEventFiles(\"basketball-events\", \"basketball_nba\", [\"player_points\", \"player_rebounds\", \"player_assists\"], [\"us\"])"
   ],
   "metadata": {
    "collapsed": false
   }
  },
  {
   "cell_type": "code",
   "execution_count": 37,
   "outputs": [
    {
     "name": "stdout",
     "output_type": "stream",
     "text": [
      "['basketball-player-props/f3bac99f387d25a715ea5f00b5f0fc76-props-2023-12-21.json', 'basketball-player-props/58eea45d1896f10c25ded62891e53d81-props-2023-12-15.json', 'basketball-player-props/66856247d60dbf6509de746cfa61e53a-props-2024-01-21.json', 'basketball-player-props/ed1407078249a1c878a2a25fb105ca37-props-2024-01-01.json', 'basketball-player-props/9f02a6b2524aa64f8db121b4105e816e-props-2024-02-10.json', 'basketball-player-props/ba86ea53d35fc93c4f62598821b40534-props-2023-12-16.json', 'basketball-player-props/89a9a1e83d529006a5d060cbf99c2d9f-props-2023-11-12.json', 'basketball-player-props/cbd4709b5df7f1ee3ff6e287693f9d49-props-2024-01-05.json', 'basketball-player-props/618f278f8511905c697d8a5f92890226-props-2024-01-29.json', 'basketball-player-props/83fa94fe55795402814cc80e29fdefd2-props-2024-02-14.json', 'basketball-player-props/278637ae0d466211ddc5c15f097cb5ee-props-2023-12-29.json', 'basketball-player-props/7f3996cc5976eb307b77e036081da9fb-props-2023-12-23.json', 'basketball-player-props/757420d619afb9b6d322f9b2fc6abfc0-props-2024-01-08.json', 'basketball-player-props/72a46c8d7c9cbb04029cbe8c5c4c6542-props-2023-12-18.json', 'basketball-player-props/844a860e1ed76a82f1495bc9b4525f97-props-2024-02-14.json', 'basketball-player-props/a9c78bf9fb22f5c531020f06414d1600-props-2023-12-14.json', 'basketball-player-props/05f41c702f32852542143ee87787049b-props-2023-12-29.json', 'basketball-player-props/b13dc2d9f54ba07ac49da52f10b508eb-props-2023-12-26.json', 'basketball-player-props/690e6e79593f86f3d103bf298b1d23ae-props-2023-12-16.json', 'basketball-player-props/174186f9d7a4b087e44911a23abc8641-props-2023-12-29.json', 'basketball-player-props/ea87ecd6a223e31fa02265b8fe5faf0e-props-2023-11-25.json', 'basketball-player-props/1544f6fa249d27b94b59d19318fb58ec-props-2024-01-20.json', 'basketball-player-props/07efeae8c927b22af0ba4e020dbb1056-props-2023-12-18.json', 'basketball-player-props/88b6c95aa5c16857922d78700d0a11fa-props-2023-11-06.json', 'basketball-player-props/98be3134084b48da3103a57d8929d934-props-2024-02-14.json', 'basketball-player-props/1a897f4c221aec37878085db7da91dde-props-2023-12-02.json']\n"
     ]
    }
   ],
   "source": [
    "Collector.convertPropFilesToSingularCSV(\"basketball-player-props\")"
   ],
   "metadata": {
    "collapsed": false
   }
  }
 ],
 "metadata": {
  "kernelspec": {
   "display_name": "Python 3",
   "language": "python",
   "name": "python3"
  },
  "language_info": {
   "codemirror_mode": {
    "name": "ipython",
    "version": 3
   },
   "file_extension": ".py",
   "mimetype": "text/x-python",
   "name": "python",
   "nbconvert_exporter": "python",
   "pygments_lexer": "ipython3",
   "version": "3.9.1"
  }
 },
 "nbformat": 4,
 "nbformat_minor": 2
}
