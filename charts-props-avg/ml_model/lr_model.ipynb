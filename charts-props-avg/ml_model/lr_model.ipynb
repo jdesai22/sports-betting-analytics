{
 "cells": [
  {
   "cell_type": "code",
   "execution_count": 7,
   "id": "afc024c5-2c59-446c-859e-91a446318d74",
   "metadata": {
    "tags": []
   },
   "outputs": [],
   "source": [
    "import pandas as pd\n",
    "import numpy as np\n",
    "from sklearn.model_selection import train_test_split\n",
    "from sklearn.preprocessing import OneHotEncoder\n",
    "from sklearn.linear_model import LinearRegression"
   ]
  },
  {
   "cell_type": "code",
   "execution_count": 8,
   "id": "f15542a7-f59a-48f6-b996-356ef702eff6",
   "metadata": {
    "tags": []
   },
   "outputs": [],
   "source": [
    "# Load the dataset\n",
    "data = pd.read_csv(\"filtered_player_data_2.csv\")\n",
    "\n",
    "# Prepare features and target variables\n",
    "features = data[\n",
    "    [\n",
    "        \"Tm\",\n",
    "        \"Opp\",\n",
    "        \"Place\",\n",
    "        \"Points_Running_Avg\",\n",
    "        \"Rebounds_Running_Avg\",\n",
    "        \"Assists_Running_Avg\",\n",
    "    ]\n",
    "].fillna(\"Unknown\")\n",
    "targets = data[[\"PTS\", \"TRB\", \"AST\"]]\n",
    "\n",
    "# OneHotEncoder for categorical variables\n",
    "encoder = OneHotEncoder(sparse_output=False)\n",
    "encoded_features = encoder.fit_transform(features[[\"Tm\", \"Opp\", \"Place\"]])\n",
    "\n",
    "# Combine encoded categorical features with numerical features\n",
    "numerical_features = features[\n",
    "    [\"Points_Running_Avg\", \"Rebounds_Running_Avg\", \"Assists_Running_Avg\"]\n",
    "].to_numpy()\n",
    "X = np.hstack([numerical_features, encoded_features])\n",
    "\n",
    "# Split the data into training and testing sets\n",
    "X_train, X_test, y_train_pts, y_test_pts = train_test_split(\n",
    "    X, targets[\"PTS\"], test_size=0.2, random_state=42\n",
    ")\n",
    "_, _, y_train_trb, y_test_trb = train_test_split(\n",
    "    X, targets[\"TRB\"], test_size=0.2, random_state=42\n",
    ")\n",
    "_, _, y_train_ast, y_test_ast = train_test_split(\n",
    "    X, targets[\"AST\"], test_size=0.2, random_state=42\n",
    ")"
   ]
  },
  {
   "cell_type": "code",
   "execution_count": 9,
   "id": "3fcaef52-60f5-459b-819a-01acc9dbb176",
   "metadata": {
    "tags": []
   },
   "outputs": [],
   "source": [
    "# Train LinearRegression models\n",
    "model_points = LinearRegression().fit(X_train, y_train_pts)\n",
    "model_rebounds = LinearRegression().fit(X_train, y_train_trb)\n",
    "model_assists = LinearRegression().fit(X_train, y_train_ast)"
   ]
  },
  {
   "cell_type": "code",
   "execution_count": 15,
   "id": "97454cf3-4f2f-453d-add3-f962c9eca5c7",
   "metadata": {
    "tags": []
   },
   "outputs": [
    {
     "name": "stdin",
     "output_type": "stream",
     "text": [
      "Enter player name:  Dejounte Murray\n",
      "Enter player's team:  ATL\n",
      "Enter opponent team:  NYK\n",
      "Enter game location (Home/Away):  Away\n"
     ]
    },
    {
     "name": "stdout",
     "output_type": "stream",
     "text": [
      "{'Player': 'Dejounte Murray', 'Predicted Points': 28.634765625, 'Predicted Rebounds': 5.1845703125, 'Predicted Assists': 3.529296875}\n"
     ]
    }
   ],
   "source": [
    "# Prediction function\n",
    "def predict_player_performance_auto(player_name, team, opponent, place):\n",
    "    # Use the last observed running averages for simplicity\n",
    "    player_data = data[data[\"Player\"] == player_name]\n",
    "    if player_data.empty:\n",
    "        return \"Player data not available\"\n",
    "\n",
    "    points_running_avg = player_data.iloc[-1][\"Points_Running_Avg\"]\n",
    "    rebounds_running_avg = player_data.iloc[-1][\"Rebounds_Running_Avg\"]\n",
    "    assists_running_avg = player_data.iloc[-1][\"Assists_Running_Avg\"]\n",
    "\n",
    "    # Prepare input data\n",
    "    input_features_df = pd.DataFrame(\n",
    "        {\n",
    "            \"Tm\": [team],\n",
    "            \"Opp\": [opponent],\n",
    "            \"Place\": [place],\n",
    "            \"Points_Running_Avg\": [points_running_avg],\n",
    "            \"Rebounds_Running_Avg\": [rebounds_running_avg],\n",
    "            \"Assists_Running_Avg\": [assists_running_avg],\n",
    "        }\n",
    "    )\n",
    "\n",
    "    # Transform input data using fitted encoder\n",
    "    encoded_input = encoder.transform(input_features_df[[\"Tm\", \"Opp\", \"Place\"]])\n",
    "    numerical_input = input_features_df[\n",
    "        [\"Points_Running_Avg\", \"Rebounds_Running_Avg\", \"Assists_Running_Avg\"]\n",
    "    ].to_numpy()\n",
    "    X_input = np.hstack([numerical_input, encoded_input])\n",
    "\n",
    "    # Make predictions\n",
    "    predicted_points = model_points.predict(X_input)[0]\n",
    "    predicted_rebounds = model_rebounds.predict(X_input)[0]\n",
    "    predicted_assists = model_assists.predict(X_input)[0]\n",
    "\n",
    "    return {\n",
    "        \"Player\": player_name,\n",
    "        \"Predicted Points\": predicted_points,\n",
    "        \"Predicted Rebounds\": predicted_rebounds,\n",
    "        \"Predicted Assists\": predicted_assists,\n",
    "    }\n",
    "\n",
    "\n",
    "def predict_performance_from_input():\n",
    "    player_name = input(\"Enter player name: \")\n",
    "    team = input(\"Enter player's team: \")\n",
    "    opponent = input(\"Enter opponent team: \")\n",
    "    place = input(\"Enter game location (Home/Away): \")\n",
    "    \n",
    "    prediction = predict_player_performance_auto(player_name, team, opponent, place)\n",
    "    print(prediction)\n",
    "\n",
    "# Call the function to prompt user input and predict performance\n",
    "predict_performance_from_input()"
   ]
  },
  {
   "cell_type": "code",
   "execution_count": null,
   "id": "e4aab376-7321-4b16-9f23-db2e43a299e5",
   "metadata": {},
   "outputs": [],
   "source": []
  }
 ],
 "metadata": {
  "kernelspec": {
   "display_name": "Python 3 (ipykernel)",
   "language": "python",
   "name": "python3"
  },
  "language_info": {
   "codemirror_mode": {
    "name": "ipython",
    "version": 3
   },
   "file_extension": ".py",
   "mimetype": "text/x-python",
   "name": "python",
   "nbconvert_exporter": "python",
   "pygments_lexer": "ipython3",
   "version": "3.11.5"
  }
 },
 "nbformat": 4,
 "nbformat_minor": 5
}
